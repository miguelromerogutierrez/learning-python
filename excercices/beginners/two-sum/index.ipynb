{
 "cells": [
  {
   "cell_type": "markdown",
   "metadata": {},
   "source": [
    "## Brute force approach\n",
    "\n",
    "**Giving** that there is a pair of elements in `nums` that their sums are equals to `target` `nums[i1] + nums[i2] == target` **then** for each `i1` in nums find the `i2` that follow the rue.\n",
    "\n",
    "**Pseudo-code**\n",
    "\n",
    "```\n",
    "func two_sum(nums: int[], target: int):\n",
    "  For index, num in nums:\n",
    "    For index_2, num_2 in nums[index+1:]:\n",
    "      If nums[index] + nums[index_2] == target:\n",
    "        return [index, index_2]\n",
    "```\n",
    "\n",
    "O notation is `O(n^2)`"
   ]
  },
  {
   "cell_type": "code",
   "execution_count": 1,
   "metadata": {},
   "outputs": [
    {
     "name": "stdout",
     "output_type": "stream",
     "text": [
      "True\n",
      "True\n",
      "True\n"
     ]
    }
   ],
   "source": [
    "from typing import List\n",
    "\n",
    "class Solution:\n",
    "  def two_sum(self, nums: List[int], target: int) -> List[int]:\n",
    "    for i in range(len(nums)):\n",
    "      for j in range(i + 1, len(nums)):\n",
    "        if nums[i] + nums[j] == target:\n",
    "          return [i, j]\n",
    "\n",
    "solution = Solution()\n",
    "print(solution.two_sum([2, 7, 11, 15], 9) == [0, 1])\n",
    "print(solution.two_sum([3, 2, 4], 6) == [1, 2])\n",
    "print(solution.two_sum([3, 3], 6) == [0, 1])"
   ]
  },
  {
   "cell_type": "markdown",
   "metadata": {},
   "source": [
    "## Hash table approach\n",
    "\n",
    "**Giving** that `target - current_iterate_num == completion` and `completion` must be part of the array `nums` **then** a hash map that store the past iterated and its index nums will give us access to the completion item if it was already calculated\n",
    "\n",
    "### Pseudo-code\n",
    "\n",
    "```\n",
    "func two_sum(nums: int[], target: int):\n",
    "  num_map = {}\n",
    "\n",
    "  FOR index, num IN nums:\n",
    "    completion = target - num\n",
    "    IF completion IN num_map\n",
    "      return [num_map[completion], index]\n",
    "    num_map[num] = index\n",
    "```\n",
    "\n",
    "O notation is `O(n)`"
   ]
  },
  {
   "cell_type": "code",
   "execution_count": 4,
   "metadata": {},
   "outputs": [
    {
     "name": "stdout",
     "output_type": "stream",
     "text": [
      "True\n",
      "True\n",
      "True\n"
     ]
    }
   ],
   "source": [
    "class Solution:\n",
    "  def two_sum(self, nums, target):\n",
    "    num_to_index = {}\n",
    "    for i, num in enumerate(nums):\n",
    "      if target - num in num_to_index:\n",
    "        return [num_to_index[target - num], i]\n",
    "      num_to_index[num] = i\n",
    "\n",
    "solution = Solution()\n",
    "print(solution.two_sum([2, 7, 11, 15], 9) == [0, 1])\n",
    "print(solution.two_sum([3, 2, 4], 6) == [1, 2])\n",
    "print(solution.two_sum([3, 3], 6) == [0, 1])"
   ]
  }
 ],
 "metadata": {
  "kernelspec": {
   "display_name": "venv",
   "language": "python",
   "name": "python3"
  },
  "language_info": {
   "codemirror_mode": {
    "name": "ipython",
    "version": 3
   },
   "file_extension": ".py",
   "mimetype": "text/x-python",
   "name": "python",
   "nbconvert_exporter": "python",
   "pygments_lexer": "ipython3",
   "version": "3.10.12"
  },
  "orig_nbformat": 4
 },
 "nbformat": 4,
 "nbformat_minor": 2
}
