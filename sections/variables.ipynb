{
 "cells": [
  {
   "cell_type": "code",
   "execution_count": 3,
   "metadata": {},
   "outputs": [
    {
     "data": {
      "text/plain": [
       "200"
      ]
     },
     "execution_count": 3,
     "metadata": {},
     "output_type": "execute_result"
    }
   ],
   "source": [
    "length = 10\n",
    "width = 20\n",
    "area = length * width\n",
    "area"
   ]
  },
  {
   "cell_type": "code",
   "execution_count": 4,
   "metadata": {},
   "outputs": [
    {
     "name": "stdout",
     "output_type": "stream",
     "text": [
      "160.0\n"
     ]
    }
   ],
   "source": [
    "amount = 100\n",
    "interest_rate = 0.6\n",
    "interest = interest_rate * amount\n",
    "amount_plus_interest = amount + interest\n",
    "print(amount_plus_interest)"
   ]
  },
  {
   "cell_type": "code",
   "execution_count": 5,
   "metadata": {},
   "outputs": [
    {
     "name": "stdout",
     "output_type": "stream",
     "text": [
      "100.0\n",
      "100\n"
     ]
    }
   ],
   "source": [
    "amount = 100\n",
    "amount_float = float(amount) # 100.00\n",
    "amount_int = int(amount_float) # 100\n",
    "print(amount_float)\n",
    "print(amount_int)"
   ]
  },
  {
   "cell_type": "code",
   "execution_count": 7,
   "metadata": {},
   "outputs": [
    {
     "name": "stdout",
     "output_type": "stream",
     "text": [
      "John's Doe\n",
      "Hello! John's Doe\n"
     ]
    }
   ],
   "source": [
    "def say_hello():\n",
    "    return 'Hello!'\n",
    "\n",
    "def func_1():\n",
    "    if True:\n",
    "        return 0\n",
    "    return 1\n",
    "\n",
    "name = \"John's\"\n",
    "last_name = 'Doe'\n",
    "print(name + \" \" + last_name)\n",
    "print(f'{say_hello()} {name} {last_name}')"
   ]
  },
  {
   "cell_type": "code",
   "execution_count": 9,
   "metadata": {},
   "outputs": [
    {
     "name": "stdout",
     "output_type": "stream",
     "text": [
      "Jorge Romero\n"
     ]
    }
   ],
   "source": [
    "text = input(\"What is your name?\")\n",
    "print(text)"
   ]
  },
  {
   "cell_type": "code",
   "execution_count": 11,
   "metadata": {},
   "outputs": [
    {
     "name": "stdout",
     "output_type": "stream",
     "text": [
      "Hi this is the Time calculator\n",
      "Please enter the time in seconds: \n",
      "The time is 3 hours with 30 minutes and 30 seconds\n"
     ]
    }
   ],
   "source": [
    "print(\"Hi this is the Time calculator\\nPlease enter the time in seconds: \")\n",
    "time_in_seconds = int(input())\n",
    "hours = time_in_seconds // 3600 # 3 hrs\n",
    "minutes = (time_in_seconds - hours * 3600) // 60 # 12630 - 3(3600) = 12630 - 10800 = 1830 // 60 = 30.5\n",
    "seconds = time_in_seconds - hours * 3600 - minutes * 60\n",
    "print(f\"The time is {hours} hours with {minutes} minutes and {seconds} seconds\")"
   ]
  },
  {
   "cell_type": "code",
   "execution_count": 20,
   "metadata": {},
   "outputs": [
    {
     "name": "stdout",
     "output_type": "stream",
     "text": [
      "a is b\n",
      "1\n",
      "2\n",
      "3\n",
      "4\n",
      "5\n",
      "is a int\n",
      "is a int\n",
      "is a int\n",
      "is a int\n",
      "is a int\n",
      "is a string\n",
      "is a string\n",
      "is a string\n",
      "is a int\n",
      "is a int\n",
      "is a int\n",
      "is a int\n",
      "is a int\n",
      "is a dict\n",
      "a b\n",
      "c d\n",
      "abc [1, 2, 3]\n",
      "is a dict\n",
      "e f\n",
      "g h\n"
     ]
    }
   ],
   "source": [
    "an_array = [1, 2, 3, 4, 5]\n",
    "a_array_mix = [1, 2, 3, 4, 5, \"a\", \"b\", \"c\"]\n",
    "a_array_dict = [1, 2, 3, 4, 5, {\"a\": \"b\", \"c\": \"d\", \"abc\": [1,2,3]}, {\"e\": \"f\", \"g\": \"h\"}]\n",
    "a_dict = {\n",
    "    \"a\": \"b\", #key: value\n",
    "    \"c\": \"d\"\n",
    "  }\n",
    "a_dict[\"a\"] # \"b\"\n",
    "a_dict[\"c\"] # \"d\"\n",
    "\n",
    "if a_dict[\"a\"] == \"b\":\n",
    "  print(\"a is b\")\n",
    "\n",
    "for i in an_array:\n",
    "  print(i)\n",
    "\n",
    "for i in a_array_mix:\n",
    "  # if i is string\n",
    "  if type(i) == str:\n",
    "    print(\"is a string\")\n",
    "  elif type(i) == int:\n",
    "    print(\"is a int\")\n",
    "\n",
    "for i in a_array_dict:\n",
    "  if type(i) == dict:\n",
    "    print(\"is a dict\")\n",
    "    # print the key and value\n",
    "    for key, value in i.items():# [[\"a\", \"b\"], [\"c\", \"d\"]]\n",
    "      print(key, value)\n",
    "  elif type(i) == int:\n",
    "    print(\"is a int\")\n",
    "\n"
   ]
  },
  {
   "cell_type": "markdown",
   "metadata": {},
   "source": []
  }
 ],
 "metadata": {
  "kernelspec": {
   "display_name": "venv",
   "language": "python",
   "name": "python3"
  },
  "language_info": {
   "codemirror_mode": {
    "name": "ipython",
    "version": 3
   },
   "file_extension": ".py",
   "mimetype": "text/x-python",
   "name": "python",
   "nbconvert_exporter": "python",
   "pygments_lexer": "ipython3",
   "version": "3.10.12"
  },
  "orig_nbformat": 4
 },
 "nbformat": 4,
 "nbformat_minor": 2
}
